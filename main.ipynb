{
 "cells": [
  {
   "cell_type": "markdown",
   "metadata": {},
   "source": [
    "# Eman Khaled  \n",
    "\n"
   ]
  },
  {
   "cell_type": "markdown",
   "metadata": {},
   "source": [
    "# Color Identifcation in Images"
   ]
  },
  {
   "cell_type": "code",
   "execution_count": 1,
   "metadata": {},
   "outputs": [],
   "source": [
    "import cv2\n",
    "import numpy as np\n",
    "import matplotlib\n",
    "import matplotlib.pyplot as plt"
   ]
  },
  {
   "cell_type": "code",
   "execution_count": 2,
   "metadata": {},
   "outputs": [
    {
     "data": {
      "image/png": "[encoded data removed]",
      "text/plain": [
       "<Figure size 720x504 with 1 Axes>"
      ]
     },
     "metadata": {},
     "output_type": "display_data"
    }
   ],
   "source": [
    "img = cv2.imread(\"flower.png\")\n",
    "#main colors that can be in an image with different shades and are detected:\n",
    "#white yellow orange red green violet blue gray brown black\n",
    "#print(img.shape)\n",
    "#a list used to store number of pixels of each colour in the image  \n",
    "color_pix=[]\n",
    "#a list that store the hexa values of the colors present in an image which will be used in plotting the pie chart\n",
    "hex_colors=[]\n",
    "\n",
    "## convert to hsv\n",
    "hsv = cv2.cvtColor(img, cv2.COLOR_BGR2HSV)\n",
    "\n",
    "major_colors_dict={\"white\": \"#F3F3F3\", \"yellow\": \"#FFFA45\", \"orange\": \"#FFD340\", \"red\": \"#AA110F\" , \"green\": \"#3C9D4B\",\n",
    "              \"violet\": \"#A87CA0\", \"blue\": \"#286DE5\",\"gray\":\"#808080\",\"brown\": \"#67491C\",\"black\": \"#000000\"}\n",
    "\n",
    "#lower bounds of major colors\n",
    "lower_white=np.array([0, 0, 168])\n",
    "lower_yellow=np.array([25,150,50])\n",
    "lower_orange=np.array([15, 150, 0])\n",
    "lower_red=np.array([161, 155, 84])\n",
    "lower_green=np.array([36, 50, 70])\n",
    "lower_violet=np.array([145, 50, 0])\n",
    "lower_blue=np.array([90, 50, 70])\n",
    "lower_gray=np.array([0, 0, 40])\n",
    "lower_brown=np.array([10, 100, 20])\n",
    "lower_black=np.array([0, 0, 0])\n",
    "\n",
    "#upper bounds of major colors\n",
    "upper_white= np.array([172, 111, 255])\n",
    "upper_yellow= np.array([30, 255, 255])\n",
    "upper_orange= np.array([25, 255, 255])\n",
    "upper_red= np.array([180, 255,255])\n",
    "upper_green= np.array([89, 255,255])\n",
    "upper_violet= np.array([155, 255,255])\n",
    "upper_blue= np.array([128, 255,255])\n",
    "upper_gray= np.array([180, 18,230])\n",
    "upper_brown= np.array([20, 255,200])\n",
    "upper_black= np.array([180,255,30])\n",
    "\n",
    "lower_bound=[lower_white, lower_yellow, lower_orange, lower_red, lower_green, lower_violet, lower_blue, lower_gray, lower_brown,\n",
    "            lower_black]\n",
    "\n",
    "upper_bound= [upper_white, upper_yellow, upper_orange, upper_red, upper_green, upper_violet, upper_blue, upper_gray, upper_brown,\n",
    "            upper_black]\n",
    "\n",
    "for i,key in enumerate(major_colors_dict.keys()):    #i is the iterator index\n",
    "    #A mask is used for each colour using lower and upper boundary of hsv for each color\n",
    "    mask=cv2.inRange(hsv,lower_bound[i], upper_bound[i])     \n",
    "    #check if the image has this color by counting number of white pixels in the mask as if the resulted mask image is totally \n",
    "    #black therefore, the original image does not have this range of color\n",
    "    #otherwise the pixels having this color in the original image will turn to white in the mask image\n",
    "    white_pix= np.sum(mask == 255)    \n",
    "    if(white_pix!= 0): \n",
    "        color_pix.append(white_pix)\n",
    "        hex_colors.append(major_colors_dict[key])\n",
    "        \n",
    "#print(color_pix)\n",
    "#print(hex_colors)\n",
    "\n",
    "# using dictionary comprehension\n",
    "# to convert Two lists to dictionary\n",
    "\n",
    "output_dict = {color_pix[i]: hex_colors[i] for i in range(len(color_pix))}\n",
    "#print(output_dict)\n",
    "\n",
    "#Removing from the dictionary: items with low number of pixels to display only the major colors that can be visible in an image \n",
    "keys_list=[]\n",
    "for key in output_dict:\n",
    "    keys_list.append(key)\n",
    "\n",
    "for element in keys_list:\n",
    "    if element<=(0.2/100)*img.shape[0]*img.shape[1]:\n",
    "        output_dict.pop(element)\n",
    "#print(output_dict)\n",
    "\n",
    "color_pix=[]\n",
    "color_pix=[key for key in output_dict.keys()]\n",
    "#print(color_pix)\n",
    "\n",
    "hex_colors=[]\n",
    "hex_colors=[value for value in output_dict.values()]\n",
    "#print(hex_colors)\n",
    "\n",
    "\n",
    "#plotting the colours in a pie chart\n",
    "fig = plt.figure(figsize =(10, 7))\n",
    "plt.pie(color_pix,labels=hex_colors,colors=hex_colors)\n",
    "\n",
    "#mask=cv2.inRange(hsv, (0, 0, 168), (172,111,255))   \n",
    "\n",
    "\n",
    "cv2.imshow(\"original image\",img)\n",
    "cv2.waitKey(0) \n",
    "cv2.destroyAllWindows() \n",
    "\n",
    "\n",
    "\n",
    "\n",
    "\n",
    "\n"
   ]
  },
  {
   "cell_type": "code",
   "execution_count": null,
   "metadata": {},
   "outputs": [],
   "source": []
  },
  {
   "cell_type": "code",
   "execution_count": null,
   "metadata": {},
   "outputs": [],
   "source": []
  },
  {
   "cell_type": "code",
   "execution_count": null,
   "metadata": {},
   "outputs": [],
   "source": []
  }
 ],
 "metadata": {
  "kernelspec": {
   "display_name": "Python 3",
   "language": "python",
   "name": "python3"
  },
  "language_info": {
   "codemirror_mode": {
    "name": "ipython",
    "version": 3
   },
   "file_extension": ".py",
   "mimetype": "text/x-python",
   "name": "python",
   "nbconvert_exporter": "python",
   "pygments_lexer": "ipython3",
   "version": "3.7.6"
  }
 },
 "nbformat": 4,
 "nbformat_minor": 4
}
